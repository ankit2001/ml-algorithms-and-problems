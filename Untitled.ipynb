{
 "cells": [
  {
   "cell_type": "code",
   "execution_count": 1,
   "metadata": {},
   "outputs": [],
   "source": [
    "training_data=[\n",
    "    [\"Green\",3,\"Mango\"],\n",
    "    [\"Yellow\",3,\"Mango\"],\n",
    "    [\"Red\",1,\"Grape\"],\n",
    "    [\"Red\",1,\"Grape\"],\n",
    "    [\"Yellow\",3,\"Lemon\"],\n",
    "]"
   ]
  },
  {
   "cell_type": "code",
   "execution_count": 2,
   "metadata": {},
   "outputs": [],
   "source": [
    "header=[\"color\",\"diameter\",\"label\"]"
   ]
  },
  {
   "cell_type": "code",
   "execution_count": 3,
   "metadata": {},
   "outputs": [],
   "source": [
    "def unique_vals(rows,cols):\n",
    "    return set([row[col] for row in rows])\n",
    "def class_counts(rows):\n",
    "    count={}\n",
    "    for row in rows:\n",
    "        label=row[-1]\n",
    "        if label not in counts:\n",
    "            counts[label]=0\n",
    "        counts[label]+=1\n",
    "    return counts    "
   ]
  },
  {
   "cell_type": "code",
   "execution_count": 5,
   "metadata": {},
   "outputs": [],
   "source": [
    "def is_numeric(value):\n",
    "    return isinstance(value,int) or isinstance(value,float)"
   ]
  },
  {
   "cell_type": "code",
   "execution_count": 10,
   "metadata": {},
   "outputs": [],
   "source": [
    "class Question:\n",
    "    def __init__(self,column,value):\n",
    "        self.column=column\n",
    "        self.value=value\n",
    "    \n",
    "    def match(self,example):\n",
    "        val=example[self.column]\n",
    "        if is_numeric(value):\n",
    "            return val >= self.value\n",
    "        else:\n",
    "            return val==self.value\n",
    "   \n",
    "    def __repr__(self):\n",
    "        condition=\"==\"\n",
    "        if is__numeric(self.value):\n",
    "            condition =\">=\"\n",
    "        return \"Is %s %s %s?\"%(\n",
    "        header[self.column],condition,str(self.value))    "
   ]
  },
  {
   "cell_type": "code",
   "execution_count": 11,
   "metadata": {},
   "outputs": [],
   "source": [
    "def partition(rows,question):\n",
    "    true_rows,false_rows=[],[]\n",
    "    for row in rows:\n",
    "        if question.match(row):\n",
    "            true_rows.append(row)\n",
    "        else:\n",
    "            false_rows.append(row)\n",
    "    return true_rows,false_rows\n"
   ]
  },
  {
   "cell_type": "code",
   "execution_count": 13,
   "metadata": {},
   "outputs": [],
   "source": [
    "def gini(rows):\n",
    "    counts=class_counts(rows)\n",
    "    impurity=1\n",
    "    for lbl in counts:\n",
    "        prob_of_lbl=counts[lbl]/float(len(rows))\n",
    "        impurity-=prob_of_lbl**2\n",
    "    return impurity\n"
   ]
  },
  {
   "cell_type": "code",
   "execution_count": null,
   "metadata": {},
   "outputs": [],
   "source": [
    "def info_gain(left,right,current_uncertainity):\n",
    "    p=float(len(left))/(len(left)+len(right))\n",
    "    return current_uncertaintity-p*gini(left)-(1-p)*gini(right)\n"
   ]
  }
 ],
 "metadata": {
  "kernelspec": {
   "display_name": "Python 3",
   "language": "python",
   "name": "python3"
  },
  "language_info": {
   "codemirror_mode": {
    "name": "ipython",
    "version": 3
   },
   "file_extension": ".py",
   "mimetype": "text/x-python",
   "name": "python",
   "nbconvert_exporter": "python",
   "pygments_lexer": "ipython3",
   "version": "3.7.3"
  }
 },
 "nbformat": 4,
 "nbformat_minor": 2
}
