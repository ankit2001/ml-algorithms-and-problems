{
 "cells": [
  {
   "cell_type": "markdown",
   "metadata": {},
   "source": [
    "# RECOMENDATION SYSTEM"
   ]
  },
  {
   "cell_type": "code",
   "execution_count": 7,
   "metadata": {},
   "outputs": [],
   "source": [
    "import math\n",
    "import operator\n",
    "\n",
    "from recommend_data import review_data\n"
   ]
  },
  {
   "cell_type": "code",
   "execution_count": 8,
   "metadata": {},
   "outputs": [],
   "source": [
    "def get_common_movies(criticA,criticB):\n",
    "\treturn [movie for movie in review_data[criticA] if movie in review_data[criticB]]\n",
    "\n",
    "def get_reviews(criticA,criticB):\n",
    "\tcommon_movies = get_common_movies(criticA,criticB)\n",
    "\treturn [(review_data[criticA][movie], review_data[criticB][movie]) for movie in common_movies]\n",
    "\n",
    "def euclidean_distance(points):\n",
    "\tsquared_diffs = [(point[0] - point[1]) ** 2 for point in points]\n",
    "\tsummed_squared_diffs = sum(squared_diffs)\n",
    "\tdistance = math.sqrt(summed_squared_diffs)\n",
    "\treturn distance\n",
    "\n",
    "def similarity(reviews):\n",
    "\treturn 1/ (1 + euclidean_distance(reviews))\n",
    "\n",
    "def get_critic_similarity(criticA, criticB):\n",
    "\treviews = get_reviews(criticA,criticB)\n",
    "\treturn similarity(reviews)"
   ]
  },
  {
   "cell_type": "code",
   "execution_count": 9,
   "metadata": {},
   "outputs": [],
   "source": [
    "def recommend_movies(critic, num_suggestions):\n",
    "\tsimilarity_scores = [(get_critic_similarity(critic, other), other) for other in review_data if other != critic]\n",
    "\n",
    "\tsimilarity_scores.sort()\n",
    "\tsimilarity_scores.reverse()\n",
    "\tsimilarity_scores = similarity_scores[0:num_suggestions]\n",
    "\n",
    "\trecommendations = {}\n",
    "\n",
    "\tfor simularity, other in similarity_scores:\n",
    "\t\treviewed = review_data[other]\n",
    "\n",
    "\t\tfor movie in reviewed:\n",
    "\t\t\tif movie not in review_data[critic]:\n",
    "\t\t\t\tweight = simularity * reviewed[movie]\n",
    "\n",
    "\t\t\t\tif movie in recommendations:\n",
    "\t\t\t\t\tsim, weights = recommendations[movie]\n",
    "\t\t\t\t\trecommendations[movie] = (sim + simularity, weights + [weight])\n",
    "\t\t\t\telse:\n",
    "\t\t\t\t\trecommendations[movie] = (simularity, [weight])\n",
    "\n",
    "\tfor recommendation in recommendations:\n",
    "\t\tsimularity, movie = recommendations[recommendation]\n",
    "\t\trecommendations[recommendation] = sum(movie) / simularity\n",
    "\n",
    "\tsorted_recommendations = sorted(recommendations.items(), key=operator.itemgetter(1), reverse=True)\n",
    "\n",
    "\treturn sorted_recommendations"
   ]
  },
  {
   "cell_type": "code",
   "execution_count": 10,
   "metadata": {},
   "outputs": [
    {
     "data": {
      "text/plain": [
       "[('Raiders of the Lost Ark', 5.0),\n",
       " ('One Flew Over The Cuckoos Nest', 5.0),\n",
       " ('Jaws', 4.957589468159472),\n",
       " ('The Shawshank Redemption', 4.9241419859272275),\n",
       " ('Close Encounters of the Third Kind', 4.911323433424351),\n",
       " ('Star Wars Episode IV - A New Hope', 4.812058581868654),\n",
       " ('The Shining', 4.784944115961783),\n",
       " ('Apocalypse Now', 1.63)]"
      ]
     },
     "execution_count": 10,
     "metadata": {},
     "output_type": "execute_result"
    }
   ],
   "source": [
    "recommend_movies(\"Tom Hanks\",7)"
   ]
  },
  {
   "cell_type": "code",
   "execution_count": 13,
   "metadata": {},
   "outputs": [],
   "source": [
    "for names in review_data:\n",
    "    recommend_movies(names,3)"
   ]
  },
  {
   "cell_type": "code",
   "execution_count": 14,
   "metadata": {},
   "outputs": [
    {
     "data": {
      "text/plain": [
       "[('Raiders of the Lost Ark', 5.0),\n",
       " ('One Flew Over The Cuckoos Nest', 5.0),\n",
       " ('Jaws', 4.957589468159472),\n",
       " ('The Shawshank Redemption', 4.9241419859272275),\n",
       " ('Close Encounters of the Third Kind', 4.911323433424351),\n",
       " ('Star Wars Episode IV - A New Hope', 4.812058581868654),\n",
       " ('The Shining', 4.784944115961783),\n",
       " ('Apocalypse Now', 1.63)]"
      ]
     },
     "execution_count": 14,
     "metadata": {},
     "output_type": "execute_result"
    }
   ],
   "source": [
    "recommend_movies(\"Tom Hanks\",7)"
   ]
  },
  {
   "cell_type": "code",
   "execution_count": 15,
   "metadata": {},
   "outputs": [
    {
     "name": "stdout",
     "output_type": "stream",
     "text": [
      "Marlon Brando\n",
      "Stephen King\n",
      "Steven Spielberg\n",
      "George Lucas\n",
      "Al Pacino\n",
      "Robert DeNiro\n",
      "Robert Duvall\n",
      "Jack Nicholson\n",
      "Morgan Freeman\n",
      "Harrison Ford\n",
      "Tom Hanks\n",
      "Francis Ford Coppola\n",
      "Martin Scorsese\n",
      "Diane Keaton\n",
      "Richard Dreyfuss\n",
      "Joe Pesci\n"
     ]
    }
   ],
   "source": [
    "for keys in review_data:\n",
    "    print(keys)"
   ]
  },
  {
   "cell_type": "code",
   "execution_count": 21,
   "metadata": {},
   "outputs": [],
   "source": [
    "wrecommend_movies(\"Tom Hanks\",7)"
   ]
  },
  {
   "cell_type": "code",
   "execution_count": null,
   "metadata": {},
   "outputs": [],
   "source": []
  }
 ],
 "metadata": {
  "kernelspec": {
   "display_name": "Python 3",
   "language": "python",
   "name": "python3"
  },
  "language_info": {
   "codemirror_mode": {
    "name": "ipython",
    "version": 3
   },
   "file_extension": ".py",
   "mimetype": "text/x-python",
   "name": "python",
   "nbconvert_exporter": "python",
   "pygments_lexer": "ipython3",
   "version": "3.7.3"
  }
 },
 "nbformat": 4,
 "nbformat_minor": 2
}
